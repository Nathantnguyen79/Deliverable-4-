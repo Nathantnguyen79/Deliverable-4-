{
  "nbformat": 4,
  "nbformat_minor": 0,
  "metadata": {
    "colab": {
      "provenance": []
    },
    "kernelspec": {
      "name": "python3",
      "display_name": "Python 3"
    },
    "language_info": {
      "name": "python"
    }
  },
  "cells": [
    {
      "cell_type": "code",
      "execution_count": 132,
      "metadata": {
        "colab": {
          "base_uri": "https://localhost:8080/"
        },
        "id": "dyxRw2stmCJI",
        "outputId": "af6aabcc-7237-4a89-8ea7-89aedc076e77"
      },
      "outputs": [
        {
          "output_type": "stream",
          "name": "stdout",
          "text": [
            "Please enter an interger: 4\n",
            "You entered a number less than 5\n",
            "Please enter a number between 5 and 15 next try!\n"
          ]
        }
      ],
      "source": [
        "import numpy as np\n",
        "a = int(input(\"Please enter an interger: \"))\n",
        "n = []\n",
        "def main():\n",
        "  for i in range(a):\n",
        "     elements = np.random.randint(10, 50)\n",
        "     n.append(elements)\n",
        "     total = sum(n)\n",
        "  print(\"The elements of the arrays are: \", n)\n",
        "def main_sum():\n",
        "  total = sum(n)\n",
        "  print(\"The sum is \", total)\n",
        "if a >= 5:\n",
        "  if a <= 15:\n",
        "    main()\n",
        "    main_sum()\n",
        "  else:\n",
        "    print(\"You entered a number greater than 15\")\n",
        "    print(\"Please enter a number between 5 and 15 next try!\")\n",
        "else:\n",
        "    print(\"You entered a number less than 5\")\n",
        "    print(\"Please enter a number between 5 and 15 next try!\")\n"
      ]
    }
  ]
}